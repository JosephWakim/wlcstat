{
 "cells": [
  {
   "cell_type": "markdown",
   "metadata": {},
   "source": [
    "Example Calculations of the WLC End-to_en\n",
    "Andrew Spakowitz \n",
    "2/15/2019"
   ]
  },
  {
   "cell_type": "code",
   "execution_count": 3,
   "metadata": {},
   "outputs": [],
   "source": [
    "import numpy as np\n",
    "import matplotlib\n",
    "import importlib\n",
    "import subroutines.wlcstat"
   ]
  },
  {
   "cell_type": "code",
   "execution_count": 4,
   "metadata": {},
   "outputs": [
    {
     "data": {
      "text/plain": [
       "<module 'subroutines.wlcstat' from '/Users/ajspakow/Documents/Simulation/spakowitz/github/wlcstat/subroutines/wlcstat.py'>"
      ]
     },
     "execution_count": 4,
     "metadata": {},
     "output_type": "execute_result"
    }
   ],
   "source": [
    "importlib.reload(subroutines.wlcstat)"
   ]
  },
  {
   "cell_type": "code",
   "execution_count": 5,
   "metadata": {},
   "outputs": [],
   "source": [
    "npt=100\n",
    "r=np.linspace(0.0,1.0,npt)"
   ]
  },
  {
   "cell_type": "code",
   "execution_count": 6,
   "metadata": {},
   "outputs": [
    {
     "data": {
      "text/plain": [
       "array([0.00000000e+00, 1.02030405e-04, 4.08121620e-04, 9.18273646e-04,\n",
       "       1.63248648e-03, 2.55076013e-03, 3.67309458e-03, 4.99948985e-03,\n",
       "       6.52994592e-03, 8.26446281e-03, 1.02030405e-02, 1.23456790e-02,\n",
       "       1.46923783e-02, 1.72431385e-02, 1.99979594e-02, 2.29568411e-02,\n",
       "       2.61197837e-02, 2.94867871e-02, 3.30578512e-02, 3.68329762e-02,\n",
       "       4.08121620e-02, 4.49954086e-02, 4.93827160e-02, 5.39740843e-02,\n",
       "       5.87695133e-02, 6.37690032e-02, 6.89725538e-02, 7.43801653e-02,\n",
       "       7.99918376e-02, 8.58075707e-02, 9.18273646e-02, 9.80512193e-02,\n",
       "       1.04479135e-01, 1.11111111e-01, 1.17947148e-01, 1.24987246e-01,\n",
       "       1.32231405e-01, 1.39679625e-01, 1.47331905e-01, 1.55188246e-01,\n",
       "       1.63248648e-01, 1.71513111e-01, 1.79981635e-01, 1.88654219e-01,\n",
       "       1.97530864e-01, 2.06611570e-01, 2.15896337e-01, 2.25385165e-01,\n",
       "       2.35078053e-01, 2.44975003e-01, 2.55076013e-01, 2.65381084e-01,\n",
       "       2.75890215e-01, 2.86603408e-01, 2.97520661e-01, 3.08641975e-01,\n",
       "       3.19967350e-01, 3.31496786e-01, 3.43230283e-01, 3.55167840e-01,\n",
       "       3.67309458e-01, 3.79655137e-01, 3.92204877e-01, 4.04958678e-01,\n",
       "       4.17916539e-01, 4.31078461e-01, 4.44444444e-01, 4.58014488e-01,\n",
       "       4.71788593e-01, 4.85766758e-01, 4.99948985e-01, 5.14335272e-01,\n",
       "       5.28925620e-01, 5.43720029e-01, 5.58718498e-01, 5.73921028e-01,\n",
       "       5.89327620e-01, 6.04938272e-01, 6.20752984e-01, 6.36771758e-01,\n",
       "       6.52994592e-01, 6.69421488e-01, 6.86052444e-01, 7.02887460e-01,\n",
       "       7.19926538e-01, 7.37169677e-01, 7.54616876e-01, 7.72268136e-01,\n",
       "       7.90123457e-01, 8.08182838e-01, 8.26446281e-01, 8.44913784e-01,\n",
       "       8.63585348e-01, 8.82460973e-01, 9.01540659e-01, 9.20824406e-01,\n",
       "       9.40312213e-01, 9.60004081e-01, 9.79900010e-01, 1.00000000e+00])"
      ]
     },
     "execution_count": 6,
     "metadata": {},
     "output_type": "execute_result"
    }
   ],
   "source": [
    "r*r"
   ]
  },
  {
   "cell_type": "markdown",
   "metadata": {},
   "source": [
    "np.array([1,1,1])"
   ]
  },
  {
   "cell_type": "code",
   "execution_count": 7,
   "metadata": {},
   "outputs": [
    {
     "ename": "NameError",
     "evalue": "name 'gwlc' is not defined",
     "output_type": "error",
     "traceback": [
      "\u001b[0;31m---------------------------------------------------------------------------\u001b[0m",
      "\u001b[0;31mNameError\u001b[0m                                 Traceback (most recent call last)",
      "\u001b[0;32m<ipython-input-7-e29f27a9c426>\u001b[0m in \u001b[0;36m<module>\u001b[0;34m\u001b[0m\n\u001b[0;32m----> 1\u001b[0;31m \u001b[0mg\u001b[0m\u001b[0;34m=\u001b[0m\u001b[0mgwlc\u001b[0m\u001b[0;34m(\u001b[0m\u001b[0mr\u001b[0m\u001b[0;34m,\u001b[0m\u001b[0mn\u001b[0m\u001b[0;34m,\u001b[0m\u001b[0md\u001b[0m\u001b[0;34m,\u001b[0m\u001b[0mk0\u001b[0m\u001b[0;34m,\u001b[0m\u001b[0mkf\u001b[0m\u001b[0;34m,\u001b[0m\u001b[0mkstep\u001b[0m\u001b[0;34m,\u001b[0m\u001b[0mordmax\u001b[0m\u001b[0;34m,\u001b[0m\u001b[0mord\u001b[0m\u001b[0;34m,\u001b[0m\u001b[0mreslayer\u001b[0m\u001b[0;34m)\u001b[0m\u001b[0;34m\u001b[0m\u001b[0;34m\u001b[0m\u001b[0m\n\u001b[0m",
      "\u001b[0;31mNameError\u001b[0m: name 'gwlc' is not defined"
     ]
    }
   ],
   "source": [
    "\n",
    "g=gwlc(r,n,d,k0,kf,kstep,ordmax,ord,reslayer)\n"
   ]
  },
  {
   "cell_type": "code",
   "execution_count": 86,
   "metadata": {},
   "outputs": [],
   "source": [
    "y=np.diag(x,0)"
   ]
  },
  {
   "cell_type": "code",
   "execution_count": 87,
   "metadata": {},
   "outputs": [
    {
     "data": {
      "text/plain": [
       "array([[1, 0, 0],\n",
       "       [0, 1, 0],\n",
       "       [0, 0, 1]])"
      ]
     },
     "execution_count": 87,
     "metadata": {},
     "output_type": "execute_result"
    }
   ],
   "source": [
    "y"
   ]
  },
  {
   "cell_type": "code",
   "execution_count": null,
   "metadata": {},
   "outputs": [],
   "source": []
  }
 ],
 "metadata": {
  "kernelspec": {
   "display_name": "Python 3",
   "language": "python",
   "name": "python3"
  },
  "language_info": {
   "codemirror_mode": {
    "name": "ipython",
    "version": 3
   },
   "file_extension": ".py",
   "mimetype": "text/x-python",
   "name": "python",
   "nbconvert_exporter": "python",
   "pygments_lexer": "ipython3",
   "version": "3.7.6"
  }
 },
 "nbformat": 4,
 "nbformat_minor": 2
}
